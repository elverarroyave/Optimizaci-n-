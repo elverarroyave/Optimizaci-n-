{
 "cells": [
  {
   "cell_type": "markdown",
   "metadata": {},
   "source": [
    "$\\huge{\\bf{Método\\ de\\ lagrange}}$\n",
    "\n",
    "$\\large{Por:\\ Elver\\ Arroyave}$"
   ]
  },
  {
   "cell_type": "markdown",
   "metadata": {},
   "source": [
    "$\\bf{Ejemplo:}$\n",
    "\n",
    "Hallar los valores extremos de:\n",
    "\n",
    "$f(x,y)=3x -2y\\hspace{1cm}$ cuando $\\hspace{1cm}g(x,y) = x^2 + 2y^2 =1 $\n",
    "\n",
    "$\\underline{Planteamiento\\ general}$\n",
    "\n",
    "\n",
    "1. $g(x,y) = 0$\n",
    "\n",
    "2. $f_x = \\lambda g_x \\rightarrow Derivadas$\n",
    "\n",
    "3. $f_y = \\lambda g_y$\n"
   ]
  },
  {
   "cell_type": "markdown",
   "metadata": {},
   "source": [
    "\n",
    "$\\large{Solucion\\ del\\  ejemplo:}$\n",
    "\n",
    "De 1 ($g(x,y) = 0$):\n",
    "\n",
    "$x^2+2y^2 -1 = 0$\n",
    "\n",
    "$f_x = 3 \\hspace{2em} g_x=2x$\n",
    "\n",
    "$f_y = -2 \\hspace{2em} g_y = 4y$\n",
    "\n",
    "De 2 ($f_x = \\lambda g_x$):\n",
    "\n",
    "$3 =  \\lambda 2x \\Rightarrow\\lambda = \\dfrac{3}{2x}$ \n",
    "\n",
    "-------------------------------------------------------------\n",
    "\n",
    "De 3 ($f_y = \\lambda g_y$): \n",
    "\n",
    "$-2 = \\lambda4y  \\Rightarrow  \\lambda = \\dfrac{-2}{4y}$\n",
    "\n",
    "-------------------------------------------------------------"
   ]
  },
  {
   "cell_type": "markdown",
   "metadata": {},
   "source": [
    "\n",
    "$\\dfrac{3}{2x} = \\dfrac{-2}{4y}  \\Rightarrow x= -3y$\n",
    "\n",
    "Reemplazamos en $g(x,y)$\n",
    "\n",
    "$(-3y)^2+2y^2-1=0$\n",
    "\n",
    "$9y^2+2y^2-1=0$\n",
    "\n",
    "$11y^2=1 \\Rightarrow y = \\sqrt{\\dfrac{1}{11}} = \\pm 0.3$\n",
    "\n",
    "Como $x=-3y\\ $ enctonces $\\ x = \\pm 0.9$\n"
   ]
  },
  {
   "cell_type": "markdown",
   "metadata": {},
   "source": [
    "Ahora evaluamos en $f(x,y) = 3x-2y$\n",
    "\n",
    "$f(0.9,0.3)=\\\\\n",
    "f(0.9,-0.3)=3.3\\\\\n",
    "f(-0.9,0.3)=-3.3\\\\\n",
    "f(-0.9,-0.3)=$"
   ]
  },
  {
   "cell_type": "markdown",
   "metadata": {},
   "source": [
    "$\\large{Ejercio}$\n",
    "\n",
    "$f(x,y) = 3x-y+6$ cuando $g(x,y) = x^2+y^2=4$\n"
   ]
  },
  {
   "cell_type": "markdown",
   "metadata": {},
   "source": [
    "$\\large{Solucion\\ del\\  Ejercicio:}$\n",
    "\n",
    "De 1 ($g(x,y) = 0$):\n",
    "\n",
    "$x^2 + 2y^2 - 4 = 0$\n",
    "\n",
    "$f_x = 3 \\hspace{2em} g_x = 2x$\n",
    "\n",
    "$f_y = -1 \\hspace{2em} g_y = 2y$\n",
    "\n",
    "------------------------------------------------------------\n",
    "\n",
    "\n",
    "De 2 ($f_x = \\lambda g_x$):\n",
    "\n",
    "$3 =  \\lambda 2x \\Rightarrow \\lambda = \\dfrac{3}{2x}$ \n",
    "\n",
    "-------------------------------------------------------------\n",
    "\n",
    "De 3 ($f_y = \\lambda g_y$): \n",
    "\n",
    "$-1 = \\lambda2y  \\Rightarrow  \\lambda = \\dfrac{-1}{2y}$\n",
    "\n",
    "$\\dfrac{3}{2x} = \\dfrac{-1}{2y}  \\Rightarrow  \\dfrac{3}{x} = \\dfrac{-1}{y} \\Rightarrow  x= -3y$"
   ]
  },
  {
   "cell_type": "markdown",
   "metadata": {},
   "source": [
    "Reemplazamos en $g(x,y)$\n",
    "\n",
    "$(-3y)^2+y^2-4=0$\n",
    "\n",
    "$9y^2+y^2-4=0$\n",
    "\n",
    "$10y^2=4 \\Rightarrow y = \\sqrt{\\dfrac{4}{10}} = \\pm 0.632$\n",
    "\n",
    "Como $x=-3y\\  \\Rightarrow \\ x = -3(0.632) \\ x = \\pm 1.897$\n"
   ]
  },
  {
   "cell_type": "markdown",
   "metadata": {},
   "source": [
    "Ahora evaluamos en $f(x,y) = 3x-y+6$\n",
    "\n",
    "$f(1.897,0.632)=\\\\\n",
    "f(1.897,-0.632)=\\\\\n",
    "f(-1.897,0.632)=\\\\\n",
    "f(-1.897,-0.632)=$"
   ]
  },
  {
   "cell_type": "code",
   "execution_count": 3,
   "metadata": {},
   "outputs": [
    {
     "name": "stdout",
     "output_type": "stream",
     "text": [
      "f(1.897,0.632) = 11.059000000000001\n",
      "f(1.897,-0.632) =  12.323\n",
      "f(-1.897,0.632) =  -0.3229999999999995\n",
      "f(-1.897,-0.632) =  0.9409999999999998\n"
     ]
    }
   ],
   "source": [
    "def f(x,y):\n",
    "    f = 3*x-y+6\n",
    "    return f\n",
    "print('f(1.897,0.632) =', f(1.897,0.632))\n",
    "print('f(1.897,-0.632) = ', f(1.897,-0.632))\n",
    "print('f(-1.897,0.632) = ', f(-1.897,0.632))\n",
    "print('f(-1.897,-0.632) = ', f(-1.897,-0.632))"
   ]
  },
  {
   "cell_type": "code",
   "execution_count": null,
   "metadata": {},
   "outputs": [],
   "source": []
  }
 ],
 "metadata": {
  "kernelspec": {
   "display_name": "Python 3",
   "language": "python",
   "name": "python3"
  },
  "language_info": {
   "codemirror_mode": {
    "name": "ipython",
    "version": 3
   },
   "file_extension": ".py",
   "mimetype": "text/x-python",
   "name": "python",
   "nbconvert_exporter": "python",
   "pygments_lexer": "ipython3",
   "version": "3.7.4"
  }
 },
 "nbformat": 4,
 "nbformat_minor": 1
}
