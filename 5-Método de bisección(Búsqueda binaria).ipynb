{
 "cells": [
  {
   "cell_type": "markdown",
   "metadata": {},
   "source": [
    "$\\huge{Metodo\\ de\\ biseccion\\ o\\ Busqueda\\ binaria}$\n",
    "\n",
    "$\\large{Por:\\ Elver\\ Arroyave}$"
   ]
  },
  {
   "cell_type": "markdown",
   "metadata": {},
   "source": [
    "Es un tipo de busqueda incremental, el intervalo de(de la busqueda) siempre se divide a la mitad.\n",
    "\n",
    "Si la funcion cambia de signo sobre un intervalo, se evalua en el punto medio, de forma iterada\n",
    "\n",
    "1. Elegir valores $x_1$ y $x_2$ que encierre la raiz, se puede verificar si se cumple que $f(x_l)\\cdot f(x_u)<0$\n",
    "2. Una aproximación de la raíz $x_r$ se determina mediante: \n",
    "    $x_r=\\displaystyle \\frac{(x_l+x_u)}{2}$\n",
    "3. si $f(x_l)\\cdot f(x_r)<0$ debemos hacer $x_u = x_r$ y volvemos al paso 2.\n",
    "4. si  $f(x_l)\\cdot f(x_r)>0$ debemos hacer $x_l = x_r$ y volvemos al paso 2.\n",
    "5. si $f(x_l)\\cdot f(x_r) = 0$ llegó a la solución. la raiz es igual a $x_r$\n",
    "\n",
    "En cada iteración el intervalo se reduce a la mitad, por tanto.\n",
    "$\\displaystyle \\frac{x_l-x_u}{2^n} < Error(dado)$ \n",
    "Donde $n = $ número de iteraciones\n",
    "\n",
    "Debemos despejar $n$.\n",
    "\n",
    "$log(x_u - x_l) < log(2^n \\cdot Error)$\n",
    "\n",
    "$log(x_u - x_l) < log(2^n)+log(Error)$\n",
    "\n",
    "$\\dfrac{log(x_u)}{log(x_l)} < n\\cdot log(2)+log(Error)$\n",
    "\n",
    "$\\dfrac{log((x_u-x_l)-log(Error))}{log(2)} < n$\n",
    "\n"
   ]
  },
  {
   "cell_type": "markdown",
   "metadata": {},
   "source": [
    "Ejemplo encontrar el mínimo de $f(x)=3x^2-120x+100$ en $[-10,20]$"
   ]
  },
  {
   "cell_type": "code",
   "execution_count": 13,
   "metadata": {},
   "outputs": [
    {
     "name": "stdout",
     "output_type": "stream",
     "text": [
      "Iteracion # 1  valor  15.0\n",
      "Iteracion # 2  valor  17.5\n",
      "Iteracion # 3  valor  18.75\n",
      "Iteracion # 4  valor  19.375\n",
      "Iteracion # 5  valor  19.6875\n",
      "Iteracion # 6  valor  19.84375\n",
      "Iteracion # 7  valor  19.921875\n",
      "Iteracion # 8  valor  19.9609375\n",
      "Iteracion # 9  valor  19.98046875\n",
      "Iteracion # 10  valor  19.990234375\n",
      "Iteracion # 11  valor  19.9951171875\n",
      "Iteracion # 12  valor  19.99755859375\n",
      "Iteracion # 13  valor  19.998779296875\n",
      "Iteracion # 14  valor  19.9993896484375\n",
      "Iteracion # 15  valor  19.99969482421875\n",
      "Iteracion # 16  valor  19.999847412109375\n",
      "Iteracion # 17  valor  19.999923706054688\n",
      "Iteracion # 18  valor  19.999961853027344\n",
      "Iteracion # 19  valor  19.999980926513672\n",
      "Iteracion # 20  valor  19.999990463256836\n",
      "Iteracion # 21  valor  19.999995231628418\n",
      "Iteracion # 22  valor  19.99999761581421\n",
      "Iteracion # 23  valor  19.999998807907104\n",
      "Iteracion # 24  valor  19.999999403953552\n",
      "Iteracion # 25  valor  19.999999701976776\n",
      "Iteracion # 26  valor  19.999999850988388\n",
      "Iteracion # 27  valor  19.999999925494194\n",
      "Iteracion # 28  valor  19.999999962747097\n",
      "Iteracion # 29  valor  19.99999998137355\n",
      "Iteracion # 30  valor  19.999999990686774\n",
      "Iteracion # 31  valor  19.999999995343387\n",
      "Iteracion # 32  valor  19.999999997671694\n",
      "Iteracion # 33  valor  19.999999998835847\n",
      "Iteracion # 34  valor  19.999999999417923\n",
      "Iteracion # 35  valor  19.99999999970896\n",
      "Iteracion # 36  valor  19.99999999985448\n",
      "Iteracion # 37  valor  19.99999999992724\n",
      "Iteracion # 38  valor  19.99999999996362\n",
      "Iteracion # 39  valor  19.99999999998181\n",
      "Iteracion # 40  valor  19.999999999990905\n",
      "Iteracion # 41  valor  19.999999999995453\n",
      "Iteracion # 42  valor  19.999999999997726\n",
      "Iteracion # 43  valor  19.999999999998863\n",
      "Iteracion # 44  valor  19.99999999999943\n",
      "Iteracion # 45  valor  19.999999999999716\n",
      "Iteracion # 46  valor  19.999999999999858\n",
      "Iteracion # 47  valor  19.99999999999993\n",
      "Iteracion # 48  valor  19.999999999999964\n",
      "Iteracion # 49  valor  19.999999999999982\n",
      "Iteracion # 50  valor  19.999999999999993\n",
      "Iteracion # 51  valor  19.999999999999996\n",
      "Iteracion # 52  valor  20.0\n",
      "Iteracion # 53  valor  20.0\n",
      "Iteracion # 54  valor  20.0\n",
      "Iteracion # 55  valor  20.0\n",
      "El resultado es:  20.0\n"
     ]
    }
   ],
   "source": [
    "import numpy as np\n",
    "import matplotlib.pyplot as plt\n",
    "\n",
    "xL = -10 ##x lower\n",
    "xU = 20  ##x upper\n",
    "\n",
    "def f(x):\n",
    "    f = 3*(x**2)-120*x+100 ## Funcion \n",
    "    return f\n",
    "\n",
    "error = 1e-15 ## Error esperado\n",
    "it = 0; ## contador de iteraciones\n",
    "\n",
    "if(f(xL)*f(xU)<0): ##Para verificar si los valores xL y xU encierran la raiz\n",
    "    \n",
    "    bandera = True \n",
    "    while(bandera):\n",
    "    \n",
    "        it+=1\n",
    "\n",
    "        xR = (xL-xU)/2\n",
    "\n",
    "        condicion = f(xL)*f(xR)\n",
    "\n",
    "        if(condicion<0): xU = xR\n",
    "        if(condicion>0): xL = xR\n",
    "        if(condicion == 0): break\n",
    "            \n",
    "        xR = abs(xR)\n",
    "\n",
    "        if(((np.log(xU-xL)-np.log(error))/np.log(2))<it): break\n",
    "            \n",
    "        print(\"Iteracion #\",it,\" valor \", float(xR))\n",
    "    \n",
    "    print(\"El resultado es: \" , float(xR))\n",
    "        \n",
    "else:\n",
    "    print(\"Los valores dados no encierran la matriz\")"
   ]
  },
  {
   "cell_type": "code",
   "execution_count": 14,
   "metadata": {},
   "outputs": [
    {
     "name": "stdout",
     "output_type": "stream",
     "text": [
      "[20.0, -1100.0]\n"
     ]
    },
    {
     "data": {
      "image/png": "[encoded data removed]",
      "text/plain": [
       "<Figure size 432x288 with 1 Axes>"
      ]
     },
     "metadata": {
      "needs_background": "light"
     },
     "output_type": "display_data"
    }
   ],
   "source": [
    "x = np.linspace(0, 40,100)\n",
    "\n",
    "plt.plot(x,f(x))\n",
    "plt.grid() ##Para que dibuje la rejilla\n",
    "plt.plot(xR,f(xR),'ro')\n",
    "print([xR,f(xR)])\n",
    "##plt.show()\n"
   ]
  },
  {
   "cell_type": "code",
   "execution_count": null,
   "metadata": {},
   "outputs": [],
   "source": []
  }
 ],
 "metadata": {
  "kernelspec": {
   "display_name": "Python 3",
   "language": "python",
   "name": "python3"
  },
  "language_info": {
   "codemirror_mode": {
    "name": "ipython",
    "version": 3
   },
   "file_extension": ".py",
   "mimetype": "text/x-python",
   "name": "python",
   "nbconvert_exporter": "python",
   "pygments_lexer": "ipython3",
   "version": "3.7.4"
  }
 },
 "nbformat": 4,
 "nbformat_minor": 2
}
