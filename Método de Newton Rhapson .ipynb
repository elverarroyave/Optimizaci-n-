{
 "cells": [
  {
   "cell_type": "markdown",
   "metadata": {},
   "source": [
    "$\\huge{Metodo\\ de\\ Newton\\ Rhapson}$"
   ]
  },
  {
   "cell_type": "markdown",
   "metadata": {},
   "source": [
    "Formula: \n",
    "\n",
    "$x_{n+1} = x_n-\\dfrac{f(x_n)}{f'(x_n)}; f'(x_n)\\neq 0 $"
   ]
  },
  {
   "cell_type": "markdown",
   "metadata": {},
   "source": [
    "Ejemplo:\n",
    "    Encontrar una buena aproximación a la siguiente función con el método de Newton Raphson.\n",
    "    \n",
    "$f(x)= x^3-x-1=0$"
   ]
  },
  {
   "cell_type": "code",
   "execution_count": 92,
   "metadata": {
    "scrolled": true
   },
   "outputs": [
    {
     "name": "stdout",
     "output_type": "stream",
     "text": [
      "Iteración 1 Raiz apróximada: 1.5\n",
      "Iteración 2 Raiz apróximada: 1.3478260869565217\n",
      "Iteración 3 Raiz apróximada: 1.325200398950907\n",
      "Iteración 4 Raiz apróximada: 1.3247181739990537\n",
      "Iteración 5 Raiz apróximada: 1.3247179572447898\n"
     ]
    }
   ],
   "source": [
    "import numpy as np ##Libreria para realizar calculos un poco mas avanzados\n",
    "import matplotlib.pyplot as ptl ##Libreria para hacer las graficas\n",
    "\n",
    "def f(x):\n",
    "    f = x**3-x-1\n",
    "    return f\n",
    "\n",
    "def df(x):\n",
    "    return 3*x**2-1\n",
    "\n",
    "x0=1\n",
    "i=0\n",
    "error = 1\n",
    "while error > 1e-6:\n",
    "    x1 = x0-f(x0)/df(x0)\n",
    "    error = abs(x1-x0)\n",
    "    x0=x1\n",
    "    i+=1\n",
    "    print('Iteración', i, 'Raiz apróximada:', x0)\n"
   ]
  },
  {
   "cell_type": "code",
   "execution_count": 91,
   "metadata": {},
   "outputs": [
    {
     "data": {
      "image/png": "[encoded data removed]",
      "text/plain": [
       "<Figure size 432x288 with 1 Axes>"
      ]
     },
     "metadata": {
      "needs_background": "light"
     },
     "output_type": "display_data"
    }
   ],
   "source": [
    "x = np.linspace(-3, 3,100) ##X es un valor entre -5 y 5 y que me tome 100 valores\n",
    "\n",
    "ptl.plot(x,f(x))\n",
    "ptl.grid() ##Para que dibuje la rejilla\n",
    "ptl.plot(x0,f(x0),'ro')\n",
    "ptl.show()"
   ]
  },
  {
   "cell_type": "code",
   "execution_count": null,
   "metadata": {},
   "outputs": [],
   "source": []
  },
  {
   "cell_type": "code",
   "execution_count": null,
   "metadata": {},
   "outputs": [],
   "source": []
  },
  {
   "cell_type": "code",
   "execution_count": null,
   "metadata": {},
   "outputs": [],
   "source": []
  },
  {
   "cell_type": "code",
   "execution_count": null,
   "metadata": {},
   "outputs": [],
   "source": []
  }
 ],
 "metadata": {
  "kernelspec": {
   "display_name": "Python 3",
   "language": "python",
   "name": "python3"
  },
  "language_info": {
   "codemirror_mode": {
    "name": "ipython",
    "version": 3
   },
   "file_extension": ".py",
   "mimetype": "text/x-python",
   "name": "python",
   "nbconvert_exporter": "python",
   "pygments_lexer": "ipython3",
   "version": "3.7.4"
  }
 },
 "nbformat": 4,
 "nbformat_minor": 2
}
